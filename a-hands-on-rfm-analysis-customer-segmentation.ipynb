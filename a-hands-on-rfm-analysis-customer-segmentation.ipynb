{
 "cells": [
  {
   "cell_type": "markdown",
   "id": "8df4e6dd",
   "metadata": {
    "papermill": {
     "duration": 0.006662,
     "end_time": "2023-08-06T10:35:01.115267",
     "exception": false,
     "start_time": "2023-08-06T10:35:01.108605",
     "status": "completed"
    },
    "tags": []
   },
   "source": [
    "# **A Hands-On RFM Analysis: Customer Segmentation**\n",
    "\n",
    "\n",
    "## Introduction\n",
    "\n",
    "#### 🧑‍🏫 Author: [Nhi Yen](https://www.linkedin.com/in/yennhi95zz/)\n",
    "#### 💡I write about Machine Learning on [Medium](https://medium.com/@yennhi95zz) || [Github](https://github.com/yennhi95zz) || [Kaggle](https://www.kaggle.com/nhiyen/code) || [Linkedin](https://www.linkedin.com/in/yennhi95zz/). If you found this article interesting, your support by giving me ⭐ will help me spread the knowledge to others.\n"
   ]
  },
  {
   "cell_type": "markdown",
   "id": "4d83cd38",
   "metadata": {
    "papermill": {
     "duration": 0.005643,
     "end_time": "2023-08-06T10:35:01.127114",
     "exception": false,
     "start_time": "2023-08-06T10:35:01.121471",
     "status": "completed"
    },
    "tags": []
   },
   "source": [
    "# 0. About the Dataset\n",
    "[The Online Retail II](https://www.kaggle.com/datasets/mashlyn/online-retail-ii-uci) dataset is about two years of real online retail transactions in the UK. It includes information about products, quantities, prices, customer IDs, and countries. The company sells unique gifts, and many customers are wholesalers. The data can help understand customer behavior and predict profitability over time. It has been used in research studies for customer segmentation and prediction."
   ]
  },
  {
   "cell_type": "markdown",
   "id": "a81938bd",
   "metadata": {
    "papermill": {
     "duration": 0.005705,
     "end_time": "2023-08-06T10:35:01.138774",
     "exception": false,
     "start_time": "2023-08-06T10:35:01.133069",
     "status": "completed"
    },
    "tags": []
   },
   "source": [
    "# 1. Download and Load the Dataset:\n",
    "\n",
    "To begin, we need data. We've obtained an online retail dataset from Kaggle. The first step is downloading and loading the data into a Pandas DataFrame."
   ]
  },
  {
   "cell_type": "code",
   "execution_count": 1,
   "id": "b0ff30ee",
   "metadata": {
    "execution": {
     "iopub.execute_input": "2023-08-06T10:35:01.153041Z",
     "iopub.status.busy": "2023-08-06T10:35:01.152276Z",
     "iopub.status.idle": "2023-08-06T10:35:04.242115Z",
     "shell.execute_reply": "2023-08-06T10:35:04.240937Z"
    },
    "papermill": {
     "duration": 3.100064,
     "end_time": "2023-08-06T10:35:04.244771",
     "exception": false,
     "start_time": "2023-08-06T10:35:01.144707",
     "status": "completed"
    },
    "tags": []
   },
   "outputs": [
    {
     "data": {
      "text/html": [
       "<div>\n",
       "<style scoped>\n",
       "    .dataframe tbody tr th:only-of-type {\n",
       "        vertical-align: middle;\n",
       "    }\n",
       "\n",
       "    .dataframe tbody tr th {\n",
       "        vertical-align: top;\n",
       "    }\n",
       "\n",
       "    .dataframe thead th {\n",
       "        text-align: right;\n",
       "    }\n",
       "</style>\n",
       "<table border=\"1\" class=\"dataframe\">\n",
       "  <thead>\n",
       "    <tr style=\"text-align: right;\">\n",
       "      <th></th>\n",
       "      <th>Invoice</th>\n",
       "      <th>StockCode</th>\n",
       "      <th>Description</th>\n",
       "      <th>Quantity</th>\n",
       "      <th>InvoiceDate</th>\n",
       "      <th>Price</th>\n",
       "      <th>Customer ID</th>\n",
       "      <th>Country</th>\n",
       "    </tr>\n",
       "  </thead>\n",
       "  <tbody>\n",
       "    <tr>\n",
       "      <th>0</th>\n",
       "      <td>489434</td>\n",
       "      <td>85048</td>\n",
       "      <td>15CM CHRISTMAS GLASS BALL 20 LIGHTS</td>\n",
       "      <td>12</td>\n",
       "      <td>2009-12-01 07:45:00</td>\n",
       "      <td>6.95</td>\n",
       "      <td>13085.0</td>\n",
       "      <td>United Kingdom</td>\n",
       "    </tr>\n",
       "    <tr>\n",
       "      <th>1</th>\n",
       "      <td>489434</td>\n",
       "      <td>79323P</td>\n",
       "      <td>PINK CHERRY LIGHTS</td>\n",
       "      <td>12</td>\n",
       "      <td>2009-12-01 07:45:00</td>\n",
       "      <td>6.75</td>\n",
       "      <td>13085.0</td>\n",
       "      <td>United Kingdom</td>\n",
       "    </tr>\n",
       "    <tr>\n",
       "      <th>2</th>\n",
       "      <td>489434</td>\n",
       "      <td>79323W</td>\n",
       "      <td>WHITE CHERRY LIGHTS</td>\n",
       "      <td>12</td>\n",
       "      <td>2009-12-01 07:45:00</td>\n",
       "      <td>6.75</td>\n",
       "      <td>13085.0</td>\n",
       "      <td>United Kingdom</td>\n",
       "    </tr>\n",
       "    <tr>\n",
       "      <th>3</th>\n",
       "      <td>489434</td>\n",
       "      <td>22041</td>\n",
       "      <td>RECORD FRAME 7\" SINGLE SIZE</td>\n",
       "      <td>48</td>\n",
       "      <td>2009-12-01 07:45:00</td>\n",
       "      <td>2.10</td>\n",
       "      <td>13085.0</td>\n",
       "      <td>United Kingdom</td>\n",
       "    </tr>\n",
       "    <tr>\n",
       "      <th>4</th>\n",
       "      <td>489434</td>\n",
       "      <td>21232</td>\n",
       "      <td>STRAWBERRY CERAMIC TRINKET BOX</td>\n",
       "      <td>24</td>\n",
       "      <td>2009-12-01 07:45:00</td>\n",
       "      <td>1.25</td>\n",
       "      <td>13085.0</td>\n",
       "      <td>United Kingdom</td>\n",
       "    </tr>\n",
       "  </tbody>\n",
       "</table>\n",
       "</div>"
      ],
      "text/plain": [
       "  Invoice StockCode                          Description  Quantity  \\\n",
       "0  489434     85048  15CM CHRISTMAS GLASS BALL 20 LIGHTS        12   \n",
       "1  489434    79323P                   PINK CHERRY LIGHTS        12   \n",
       "2  489434    79323W                  WHITE CHERRY LIGHTS        12   \n",
       "3  489434     22041         RECORD FRAME 7\" SINGLE SIZE         48   \n",
       "4  489434     21232       STRAWBERRY CERAMIC TRINKET BOX        24   \n",
       "\n",
       "           InvoiceDate  Price  Customer ID         Country  \n",
       "0  2009-12-01 07:45:00   6.95      13085.0  United Kingdom  \n",
       "1  2009-12-01 07:45:00   6.75      13085.0  United Kingdom  \n",
       "2  2009-12-01 07:45:00   6.75      13085.0  United Kingdom  \n",
       "3  2009-12-01 07:45:00   2.10      13085.0  United Kingdom  \n",
       "4  2009-12-01 07:45:00   1.25      13085.0  United Kingdom  "
      ]
     },
     "execution_count": 1,
     "metadata": {},
     "output_type": "execute_result"
    }
   ],
   "source": [
    "import pandas as pd\n",
    "\n",
    "# Load the dataset\n",
    "data = pd.read_csv('/kaggle/input/online-retail-ii-uci/online_retail_II.csv')\n",
    "data.head()"
   ]
  },
  {
   "cell_type": "markdown",
   "id": "b0a417ad",
   "metadata": {
    "papermill": {
     "duration": 0.006134,
     "end_time": "2023-08-06T10:35:04.257603",
     "exception": false,
     "start_time": "2023-08-06T10:35:04.251469",
     "status": "completed"
    },
    "tags": []
   },
   "source": [
    "# 2. Data Preprocessing:\n",
    "\n",
    "Before diving into the analysis, we must ensure our data is clean and well-structured. This involves handling missing values and converting data types if needed.\n",
    "\n",
    "- Handle missing values, if any.\n",
    "- Convert data types if necessary."
   ]
  },
  {
   "cell_type": "code",
   "execution_count": 2,
   "id": "96e03ae4",
   "metadata": {
    "execution": {
     "iopub.execute_input": "2023-08-06T10:35:04.272346Z",
     "iopub.status.busy": "2023-08-06T10:35:04.271911Z",
     "iopub.status.idle": "2023-08-06T10:35:05.985604Z",
     "shell.execute_reply": "2023-08-06T10:35:05.984355Z"
    },
    "papermill": {
     "duration": 1.724282,
     "end_time": "2023-08-06T10:35:05.988350",
     "exception": false,
     "start_time": "2023-08-06T10:35:04.264068",
     "status": "completed"
    },
    "tags": []
   },
   "outputs": [
    {
     "name": "stdout",
     "output_type": "stream",
     "text": [
      "<class 'pandas.core.frame.DataFrame'>\n",
      "RangeIndex: 1067371 entries, 0 to 1067370\n",
      "Data columns (total 8 columns):\n",
      " #   Column       Non-Null Count    Dtype  \n",
      "---  ------       --------------    -----  \n",
      " 0   Invoice      1067371 non-null  object \n",
      " 1   StockCode    1067371 non-null  object \n",
      " 2   Description  1062989 non-null  object \n",
      " 3   Quantity     1067371 non-null  int64  \n",
      " 4   InvoiceDate  1067371 non-null  object \n",
      " 5   Price        1067371 non-null  float64\n",
      " 6   Customer ID  824364 non-null   float64\n",
      " 7   Country      1067371 non-null  object \n",
      "dtypes: float64(2), int64(1), object(5)\n",
      "memory usage: 65.1+ MB\n"
     ]
    }
   ],
   "source": [
    "data.info()"
   ]
  },
  {
   "cell_type": "code",
   "execution_count": 3,
   "id": "fc3fba3f",
   "metadata": {
    "execution": {
     "iopub.execute_input": "2023-08-06T10:35:06.003779Z",
     "iopub.status.busy": "2023-08-06T10:35:06.003323Z",
     "iopub.status.idle": "2023-08-06T10:35:09.764127Z",
     "shell.execute_reply": "2023-08-06T10:35:09.762840Z"
    },
    "papermill": {
     "duration": 3.771877,
     "end_time": "2023-08-06T10:35:09.767040",
     "exception": false,
     "start_time": "2023-08-06T10:35:05.995163",
     "status": "completed"
    },
    "tags": []
   },
   "outputs": [
    {
     "name": "stdout",
     "output_type": "stream",
     "text": [
      "No. of missing values: Invoice             0\n",
      "StockCode           0\n",
      "Description      4382\n",
      "Quantity            0\n",
      "InvoiceDate         0\n",
      "Price               0\n",
      "Customer ID    243007\n",
      "Country             0\n",
      "dtype: int64. \n",
      "\n"
     ]
    },
    {
     "data": {
      "text/html": [
       "<div>\n",
       "<style scoped>\n",
       "    .dataframe tbody tr th:only-of-type {\n",
       "        vertical-align: middle;\n",
       "    }\n",
       "\n",
       "    .dataframe tbody tr th {\n",
       "        vertical-align: top;\n",
       "    }\n",
       "\n",
       "    .dataframe thead th {\n",
       "        text-align: right;\n",
       "    }\n",
       "</style>\n",
       "<table border=\"1\" class=\"dataframe\">\n",
       "  <thead>\n",
       "    <tr style=\"text-align: right;\">\n",
       "      <th></th>\n",
       "      <th>Invoice</th>\n",
       "      <th>StockCode</th>\n",
       "      <th>Description</th>\n",
       "      <th>Quantity</th>\n",
       "      <th>InvoiceDate</th>\n",
       "      <th>Price</th>\n",
       "      <th>Customer ID</th>\n",
       "      <th>Country</th>\n",
       "    </tr>\n",
       "  </thead>\n",
       "  <tbody>\n",
       "    <tr>\n",
       "      <th>0</th>\n",
       "      <td>489434</td>\n",
       "      <td>85048</td>\n",
       "      <td>15CM CHRISTMAS GLASS BALL 20 LIGHTS</td>\n",
       "      <td>12</td>\n",
       "      <td>2009-12-01 07:45:00</td>\n",
       "      <td>6.95</td>\n",
       "      <td>13085.0</td>\n",
       "      <td>United Kingdom</td>\n",
       "    </tr>\n",
       "    <tr>\n",
       "      <th>1</th>\n",
       "      <td>489434</td>\n",
       "      <td>79323P</td>\n",
       "      <td>PINK CHERRY LIGHTS</td>\n",
       "      <td>12</td>\n",
       "      <td>2009-12-01 07:45:00</td>\n",
       "      <td>6.75</td>\n",
       "      <td>13085.0</td>\n",
       "      <td>United Kingdom</td>\n",
       "    </tr>\n",
       "    <tr>\n",
       "      <th>2</th>\n",
       "      <td>489434</td>\n",
       "      <td>79323W</td>\n",
       "      <td>WHITE CHERRY LIGHTS</td>\n",
       "      <td>12</td>\n",
       "      <td>2009-12-01 07:45:00</td>\n",
       "      <td>6.75</td>\n",
       "      <td>13085.0</td>\n",
       "      <td>United Kingdom</td>\n",
       "    </tr>\n",
       "    <tr>\n",
       "      <th>3</th>\n",
       "      <td>489434</td>\n",
       "      <td>22041</td>\n",
       "      <td>RECORD FRAME 7\" SINGLE SIZE</td>\n",
       "      <td>48</td>\n",
       "      <td>2009-12-01 07:45:00</td>\n",
       "      <td>2.10</td>\n",
       "      <td>13085.0</td>\n",
       "      <td>United Kingdom</td>\n",
       "    </tr>\n",
       "    <tr>\n",
       "      <th>4</th>\n",
       "      <td>489434</td>\n",
       "      <td>21232</td>\n",
       "      <td>STRAWBERRY CERAMIC TRINKET BOX</td>\n",
       "      <td>24</td>\n",
       "      <td>2009-12-01 07:45:00</td>\n",
       "      <td>1.25</td>\n",
       "      <td>13085.0</td>\n",
       "      <td>United Kingdom</td>\n",
       "    </tr>\n",
       "  </tbody>\n",
       "</table>\n",
       "</div>"
      ],
      "text/plain": [
       "  Invoice StockCode                          Description  Quantity  \\\n",
       "0  489434     85048  15CM CHRISTMAS GLASS BALL 20 LIGHTS        12   \n",
       "1  489434    79323P                   PINK CHERRY LIGHTS        12   \n",
       "2  489434    79323W                  WHITE CHERRY LIGHTS        12   \n",
       "3  489434     22041         RECORD FRAME 7\" SINGLE SIZE         48   \n",
       "4  489434     21232       STRAWBERRY CERAMIC TRINKET BOX        24   \n",
       "\n",
       "          InvoiceDate  Price  Customer ID         Country  \n",
       "0 2009-12-01 07:45:00   6.95      13085.0  United Kingdom  \n",
       "1 2009-12-01 07:45:00   6.75      13085.0  United Kingdom  \n",
       "2 2009-12-01 07:45:00   6.75      13085.0  United Kingdom  \n",
       "3 2009-12-01 07:45:00   2.10      13085.0  United Kingdom  \n",
       "4 2009-12-01 07:45:00   1.25      13085.0  United Kingdom  "
      ]
     },
     "execution_count": 3,
     "metadata": {},
     "output_type": "execute_result"
    }
   ],
   "source": [
    "# Check for missing values\n",
    "missing_values = data.isnull().sum()\n",
    "print('No. of missing values: {}. \\n'.format(missing_values))\n",
    "\n",
    "# Handle missing values (example: removing rows with missing values)\n",
    "data = data.dropna()\n",
    "\n",
    "# Convert InvoiceDate to datetime format\n",
    "data['InvoiceDate'] = pd.to_datetime(data['InvoiceDate'])\n",
    "\n",
    "data.head()"
   ]
  },
  {
   "cell_type": "markdown",
   "id": "043042d3",
   "metadata": {
    "papermill": {
     "duration": 0.006613,
     "end_time": "2023-08-06T10:35:09.780707",
     "exception": false,
     "start_time": "2023-08-06T10:35:09.774094",
     "status": "completed"
    },
    "tags": []
   },
   "source": [
    "# 3. RFM Calculation\n",
    "\n",
    "RFM stands for Recency, Frequency, and Monetary value. These metrics help us understand customer behavior. We'll calculate these metrics for each customer.\n",
    "\n",
    "READ MORE: [RFM Scores Calculation](https://medium.com/@yennhi95zz/using-rfm-analysis-for-effective-customer-segmentation-in-marketing-4964a99bf606)"
   ]
  },
  {
   "cell_type": "code",
   "execution_count": 4,
   "id": "1f239243",
   "metadata": {
    "execution": {
     "iopub.execute_input": "2023-08-06T10:35:09.798575Z",
     "iopub.status.busy": "2023-08-06T10:35:09.797357Z",
     "iopub.status.idle": "2023-08-06T10:35:10.909088Z",
     "shell.execute_reply": "2023-08-06T10:35:10.907818Z"
    },
    "papermill": {
     "duration": 1.12319,
     "end_time": "2023-08-06T10:35:10.911529",
     "exception": false,
     "start_time": "2023-08-06T10:35:09.788339",
     "status": "completed"
    },
    "tags": []
   },
   "outputs": [
    {
     "data": {
      "text/html": [
       "<div>\n",
       "<style scoped>\n",
       "    .dataframe tbody tr th:only-of-type {\n",
       "        vertical-align: middle;\n",
       "    }\n",
       "\n",
       "    .dataframe tbody tr th {\n",
       "        vertical-align: top;\n",
       "    }\n",
       "\n",
       "    .dataframe thead th {\n",
       "        text-align: right;\n",
       "    }\n",
       "</style>\n",
       "<table border=\"1\" class=\"dataframe\">\n",
       "  <thead>\n",
       "    <tr style=\"text-align: right;\">\n",
       "      <th></th>\n",
       "      <th>Customer ID</th>\n",
       "      <th>Recency</th>\n",
       "      <th>Frequency</th>\n",
       "      <th>Monetary</th>\n",
       "    </tr>\n",
       "  </thead>\n",
       "  <tbody>\n",
       "    <tr>\n",
       "      <th>0</th>\n",
       "      <td>12346.0</td>\n",
       "      <td>4582</td>\n",
       "      <td>17</td>\n",
       "      <td>580.44</td>\n",
       "    </tr>\n",
       "    <tr>\n",
       "      <th>1</th>\n",
       "      <td>12347.0</td>\n",
       "      <td>4259</td>\n",
       "      <td>8</td>\n",
       "      <td>644.16</td>\n",
       "    </tr>\n",
       "    <tr>\n",
       "      <th>2</th>\n",
       "      <td>12348.0</td>\n",
       "      <td>4332</td>\n",
       "      <td>5</td>\n",
       "      <td>193.10</td>\n",
       "    </tr>\n",
       "    <tr>\n",
       "      <th>3</th>\n",
       "      <td>12349.0</td>\n",
       "      <td>4275</td>\n",
       "      <td>5</td>\n",
       "      <td>1504.59</td>\n",
       "    </tr>\n",
       "    <tr>\n",
       "      <th>4</th>\n",
       "      <td>12350.0</td>\n",
       "      <td>4567</td>\n",
       "      <td>1</td>\n",
       "      <td>65.30</td>\n",
       "    </tr>\n",
       "  </tbody>\n",
       "</table>\n",
       "</div>"
      ],
      "text/plain": [
       "   Customer ID  Recency  Frequency  Monetary\n",
       "0      12346.0     4582         17    580.44\n",
       "1      12347.0     4259          8    644.16\n",
       "2      12348.0     4332          5    193.10\n",
       "3      12349.0     4275          5   1504.59\n",
       "4      12350.0     4567          1     65.30"
      ]
     },
     "execution_count": 4,
     "metadata": {},
     "output_type": "execute_result"
    }
   ],
   "source": [
    "from datetime import datetime\n",
    "\n",
    "# Calculate recency, frequency, and monetary values\n",
    "today = datetime(2023, 8, 6)  # Update with the current date\n",
    "data['InvoiceDate'] = pd.to_datetime(data['InvoiceDate'])\n",
    "rfm_data = data.groupby('Customer ID').agg({\n",
    "    'InvoiceDate': lambda x: (today - x.max()).days,\n",
    "    'Invoice': 'nunique',\n",
    "    'Price': 'sum'\n",
    "}).reset_index()\n",
    "\n",
    "# Rename columns\n",
    "rfm_data.columns = ['Customer ID', 'Recency', 'Frequency', 'Monetary']\n",
    "rfm_data.head()"
   ]
  },
  {
   "cell_type": "markdown",
   "id": "4ac01d48",
   "metadata": {
    "papermill": {
     "duration": 0.00732,
     "end_time": "2023-08-06T10:35:10.926295",
     "exception": false,
     "start_time": "2023-08-06T10:35:10.918975",
     "status": "completed"
    },
    "tags": []
   },
   "source": [
    "# 4. Feature Scaling:\n",
    "Scale the RFM features to have similar scales.\n",
    "\n",
    "The code utilizes **StandardScaler** to normalize the RFM (Recency, Frequency, Monetary) metrics, ensuring uniform scale for accurate analysis. Key points include:\n",
    "StandardScaler is applied to `'Recency,' 'Frequency,' and 'Monetary'` columns individually.\n",
    "Scaled values are organized into `rfm_scaled_df` DataFrame.\n",
    "\n",
    "Feature scaling enhances data consistency and aids in unbiased analysis or modeling."
   ]
  },
  {
   "cell_type": "code",
   "execution_count": 5,
   "id": "071c1fce",
   "metadata": {
    "execution": {
     "iopub.execute_input": "2023-08-06T10:35:10.943948Z",
     "iopub.status.busy": "2023-08-06T10:35:10.943510Z",
     "iopub.status.idle": "2023-08-06T10:35:12.002988Z",
     "shell.execute_reply": "2023-08-06T10:35:12.001610Z"
    },
    "papermill": {
     "duration": 1.070844,
     "end_time": "2023-08-06T10:35:12.005809",
     "exception": false,
     "start_time": "2023-08-06T10:35:10.934965",
     "status": "completed"
    },
    "tags": []
   },
   "outputs": [
    {
     "name": "stderr",
     "output_type": "stream",
     "text": [
      "/opt/conda/lib/python3.10/site-packages/scipy/__init__.py:146: UserWarning: A NumPy version >=1.16.5 and <1.23.0 is required for this version of SciPy (detected version 1.23.5\n",
      "  warnings.warn(f\"A NumPy version >={np_minversion} and <{np_maxversion}\"\n"
     ]
    },
    {
     "data": {
      "text/html": [
       "<div>\n",
       "<style scoped>\n",
       "    .dataframe tbody tr th:only-of-type {\n",
       "        vertical-align: middle;\n",
       "    }\n",
       "\n",
       "    .dataframe tbody tr th {\n",
       "        vertical-align: top;\n",
       "    }\n",
       "\n",
       "    .dataframe thead th {\n",
       "        text-align: right;\n",
       "    }\n",
       "</style>\n",
       "<table border=\"1\" class=\"dataframe\">\n",
       "  <thead>\n",
       "    <tr style=\"text-align: right;\">\n",
       "      <th></th>\n",
       "      <th>Recency</th>\n",
       "      <th>Frequency</th>\n",
       "      <th>Monetary</th>\n",
       "    </tr>\n",
       "  </thead>\n",
       "  <tbody>\n",
       "    <tr>\n",
       "      <th>0</th>\n",
       "      <td>0.578405</td>\n",
       "      <td>0.591554</td>\n",
       "      <td>0.036716</td>\n",
       "    </tr>\n",
       "    <tr>\n",
       "      <th>1</th>\n",
       "      <td>-0.946162</td>\n",
       "      <td>0.028030</td>\n",
       "      <td>0.069977</td>\n",
       "    </tr>\n",
       "    <tr>\n",
       "      <th>2</th>\n",
       "      <td>-0.601600</td>\n",
       "      <td>-0.159812</td>\n",
       "      <td>-0.165470</td>\n",
       "    </tr>\n",
       "    <tr>\n",
       "      <th>3</th>\n",
       "      <td>-0.870642</td>\n",
       "      <td>-0.159812</td>\n",
       "      <td>0.519110</td>\n",
       "    </tr>\n",
       "    <tr>\n",
       "      <th>4</th>\n",
       "      <td>0.507605</td>\n",
       "      <td>-0.410267</td>\n",
       "      <td>-0.232180</td>\n",
       "    </tr>\n",
       "  </tbody>\n",
       "</table>\n",
       "</div>"
      ],
      "text/plain": [
       "    Recency  Frequency  Monetary\n",
       "0  0.578405   0.591554  0.036716\n",
       "1 -0.946162   0.028030  0.069977\n",
       "2 -0.601600  -0.159812 -0.165470\n",
       "3 -0.870642  -0.159812  0.519110\n",
       "4  0.507605  -0.410267 -0.232180"
      ]
     },
     "execution_count": 5,
     "metadata": {},
     "output_type": "execute_result"
    }
   ],
   "source": [
    "from sklearn.preprocessing import StandardScaler\n",
    "\n",
    "scaler = StandardScaler()\n",
    "rfm_scaled = scaler.fit_transform(rfm_data[['Recency', 'Frequency', 'Monetary']])\n",
    "rfm_scaled_df = pd.DataFrame(rfm_scaled, columns=['Recency', 'Frequency', 'Monetary'])\n",
    "rfm_scaled_df.head()"
   ]
  },
  {
   "cell_type": "markdown",
   "id": "ae013b2f",
   "metadata": {
    "papermill": {
     "duration": 0.007259,
     "end_time": "2023-08-06T10:35:12.020758",
     "exception": false,
     "start_time": "2023-08-06T10:35:12.013499",
     "status": "completed"
    },
    "tags": []
   },
   "source": [
    "# 5. K-Means Clustering\n",
    "Determine the optimal number of clusters using techniques like the **Elbow Method** or **Silhouette Score**.\n",
    "\n",
    "Perform K-Means clustering."
   ]
  },
  {
   "cell_type": "code",
   "execution_count": 6,
   "id": "1f2ee462",
   "metadata": {
    "execution": {
     "iopub.execute_input": "2023-08-06T10:35:12.038583Z",
     "iopub.status.busy": "2023-08-06T10:35:12.038180Z",
     "iopub.status.idle": "2023-08-06T10:35:12.043508Z",
     "shell.execute_reply": "2023-08-06T10:35:12.042096Z"
    },
    "papermill": {
     "duration": 0.01744,
     "end_time": "2023-08-06T10:35:12.046115",
     "exception": false,
     "start_time": "2023-08-06T10:35:12.028675",
     "status": "completed"
    },
    "tags": []
   },
   "outputs": [],
   "source": [
    "import warnings\n",
    "\n",
    "# Disable all warnings\n",
    "warnings.filterwarnings(\"ignore\")\n",
    "\n",
    "# # Re-enable warnings\n",
    "# warnings.resetwarnings()"
   ]
  },
  {
   "cell_type": "code",
   "execution_count": 7,
   "id": "e13cf67c",
   "metadata": {
    "execution": {
     "iopub.execute_input": "2023-08-06T10:35:12.064347Z",
     "iopub.status.busy": "2023-08-06T10:35:12.063386Z",
     "iopub.status.idle": "2023-08-06T10:35:26.087517Z",
     "shell.execute_reply": "2023-08-06T10:35:26.086205Z"
    },
    "papermill": {
     "duration": 14.036837,
     "end_time": "2023-08-06T10:35:26.090905",
     "exception": false,
     "start_time": "2023-08-06T10:35:12.054068",
     "status": "completed"
    },
    "tags": []
   },
   "outputs": [
    {
     "data": {
      "image/png": "[encoded data removed]",
      "text/plain": [
       "<Figure size 640x480 with 1 Axes>"
      ]
     },
     "metadata": {},
     "output_type": "display_data"
    },
    {
     "data": {
      "text/html": [
       "<div>\n",
       "<style scoped>\n",
       "    .dataframe tbody tr th:only-of-type {\n",
       "        vertical-align: middle;\n",
       "    }\n",
       "\n",
       "    .dataframe tbody tr th {\n",
       "        vertical-align: top;\n",
       "    }\n",
       "\n",
       "    .dataframe thead th {\n",
       "        text-align: right;\n",
       "    }\n",
       "</style>\n",
       "<table border=\"1\" class=\"dataframe\">\n",
       "  <thead>\n",
       "    <tr style=\"text-align: right;\">\n",
       "      <th></th>\n",
       "      <th>Customer ID</th>\n",
       "      <th>Recency</th>\n",
       "      <th>Frequency</th>\n",
       "      <th>Monetary</th>\n",
       "      <th>Cluster</th>\n",
       "    </tr>\n",
       "  </thead>\n",
       "  <tbody>\n",
       "    <tr>\n",
       "      <th>0</th>\n",
       "      <td>12346.0</td>\n",
       "      <td>4582</td>\n",
       "      <td>17</td>\n",
       "      <td>580.44</td>\n",
       "      <td>0</td>\n",
       "    </tr>\n",
       "    <tr>\n",
       "      <th>1</th>\n",
       "      <td>12347.0</td>\n",
       "      <td>4259</td>\n",
       "      <td>8</td>\n",
       "      <td>644.16</td>\n",
       "      <td>1</td>\n",
       "    </tr>\n",
       "    <tr>\n",
       "      <th>2</th>\n",
       "      <td>12348.0</td>\n",
       "      <td>4332</td>\n",
       "      <td>5</td>\n",
       "      <td>193.10</td>\n",
       "      <td>1</td>\n",
       "    </tr>\n",
       "    <tr>\n",
       "      <th>3</th>\n",
       "      <td>12349.0</td>\n",
       "      <td>4275</td>\n",
       "      <td>5</td>\n",
       "      <td>1504.59</td>\n",
       "      <td>1</td>\n",
       "    </tr>\n",
       "    <tr>\n",
       "      <th>4</th>\n",
       "      <td>12350.0</td>\n",
       "      <td>4567</td>\n",
       "      <td>1</td>\n",
       "      <td>65.30</td>\n",
       "      <td>0</td>\n",
       "    </tr>\n",
       "  </tbody>\n",
       "</table>\n",
       "</div>"
      ],
      "text/plain": [
       "   Customer ID  Recency  Frequency  Monetary  Cluster\n",
       "0      12346.0     4582         17    580.44        0\n",
       "1      12347.0     4259          8    644.16        1\n",
       "2      12348.0     4332          5    193.10        1\n",
       "3      12349.0     4275          5   1504.59        1\n",
       "4      12350.0     4567          1     65.30        0"
      ]
     },
     "execution_count": 7,
     "metadata": {},
     "output_type": "execute_result"
    }
   ],
   "source": [
    "from sklearn.cluster import KMeans\n",
    "from sklearn.metrics import silhouette_score\n",
    "\n",
    "# Find optimal number of clusters using the Elbow Method\n",
    "inertia_values = []\n",
    "for i in range(1, 11):\n",
    "    kmeans = KMeans(n_clusters=i, random_state=42)\n",
    "    kmeans.fit(rfm_scaled)\n",
    "    inertia_values.append(kmeans.inertia_)\n",
    "\n",
    "# Plot the Elbow Method\n",
    "import matplotlib.pyplot as plt\n",
    "\n",
    "plt.plot(range(1, 11), inertia_values, marker='o')\n",
    "plt.title('Elbow Method')\n",
    "plt.xlabel('Number of Clusters')\n",
    "plt.ylabel('Inertia')\n",
    "plt.show()\n",
    "\n",
    "# Choose the optimal number of clusters (e.g., from the elbow point or Silhouette Score)\n",
    "n_clusters = 3\n",
    "\n",
    "# Perform K-Means clustering\n",
    "kmeans = KMeans(n_clusters=n_clusters, random_state=42)\n",
    "rfm_data['Cluster'] = kmeans.fit_predict(rfm_scaled)\n",
    "rfm_data.head()"
   ]
  },
  {
   "cell_type": "markdown",
   "id": "bf12a67e",
   "metadata": {
    "papermill": {
     "duration": 0.008236,
     "end_time": "2023-08-06T10:35:26.108017",
     "exception": false,
     "start_time": "2023-08-06T10:35:26.099781",
     "status": "completed"
    },
    "tags": []
   },
   "source": [
    "# 6. Visualization\n",
    "Visualize the clusters and their characteristics."
   ]
  },
  {
   "cell_type": "code",
   "execution_count": 8,
   "id": "4d7558ba",
   "metadata": {
    "execution": {
     "iopub.execute_input": "2023-08-06T10:35:26.127594Z",
     "iopub.status.busy": "2023-08-06T10:35:26.126936Z",
     "iopub.status.idle": "2023-08-06T10:35:27.244878Z",
     "shell.execute_reply": "2023-08-06T10:35:27.243702Z"
    },
    "papermill": {
     "duration": 1.130993,
     "end_time": "2023-08-06T10:35:27.247887",
     "exception": false,
     "start_time": "2023-08-06T10:35:26.116894",
     "status": "completed"
    },
    "tags": []
   },
   "outputs": [
    {
     "data": {
      "image/png": "[encoded data removed]",
      "text/plain": [
       "<Figure size 640x480 with 1 Axes>"
      ]
     },
     "metadata": {},
     "output_type": "display_data"
    }
   ],
   "source": [
    "import seaborn as sns\n",
    "\n",
    "# Visualize the clusters\n",
    "sns.scatterplot(data=rfm_data, x='Recency', y='Frequency', hue='Cluster', palette='Set1')\n",
    "plt.title('RFM Clusters')\n",
    "plt.show()\n"
   ]
  },
  {
   "cell_type": "markdown",
   "id": "d5951dec",
   "metadata": {
    "papermill": {
     "duration": 0.009678,
     "end_time": "2023-08-06T10:35:27.267698",
     "exception": false,
     "start_time": "2023-08-06T10:35:27.258020",
     "status": "completed"
    },
    "tags": []
   },
   "source": [
    "The RFM clustering results show that there are three distinct clusters of customers:\n",
    "\n",
    "- **Cluster 0**: These customers are the most recent and frequent buyers, and they also have the highest monetary value. They are the most valuable customers to the business, and they should be targeted with marketing campaigns that encourage them to continue spending.\n",
    "- **Cluster 1**: These customers are less recent than Cluster 0, but they are still relatively frequent buyers. They have a lower monetary value than Cluster 0, but they are still valuable customers. They should be targeted with marketing campaigns that encourage them to increase their spending.\n",
    "- **Cluster 2**: These customers are the least recent and frequent buyers, and they also have the lowest monetary value. They are the least valuable customers to the business, and they may be at risk of churning. They should be targeted with marketing campaigns that encourage them to become more active.\n",
    "\n",
    "The following table summarizes the characteristics of the three clusters:\n",
    "\n",
    "Cluster| Recency  | Frequency| Monetary | Value\n",
    "-------| -------- | -------- | -------- | --------\n",
    "0      | High     | High     | High     | High\n",
    "1      | Medium   | Medium   | Medium   | Medium\n",
    "2      | Low      | Low      | Low      | Low"
   ]
  },
  {
   "cell_type": "markdown",
   "id": "05401439",
   "metadata": {
    "papermill": {
     "duration": 0.009321,
     "end_time": "2023-08-06T10:35:27.286853",
     "exception": false,
     "start_time": "2023-08-06T10:35:27.277532",
     "status": "completed"
    },
    "tags": []
   },
   "source": [
    "‼! ***Remember to fine-tune the process, adjust parameters, and explore the results to get the best insights from your customer segmentation analysis. This is a basic outline to get you started; you can further customize and refine the analysis based on your specific requirements.***"
   ]
  },
  {
   "cell_type": "markdown",
   "id": "a9fb506d",
   "metadata": {
    "papermill": {
     "duration": 0.009384,
     "end_time": "2023-08-06T10:35:27.305871",
     "exception": false,
     "start_time": "2023-08-06T10:35:27.296487",
     "status": "completed"
    },
    "tags": []
   },
   "source": [
    "## References\n",
    "- Kaggle Dataset: [Online Retail II UCI](https://www.kaggle.com/datasets/mashlyn/online-retail-ii-uci)\n",
    "- Github Repo - [HERE](https://github.com/yennhi95zz/rfm-analysis-discover-customer-segmentation-insights-with-python)\n",
    "- Kaggle Project - [HERE](https://www.kaggle.com/nhiyen/credit-card-fraud-detection-a-hands-on-project)\n",
    "- Detail Explanation about the code on [MEDIUM](https://medium.com/@yennhi95zz/a-hands-on-rfm-analysis-discover-customer-segmentation-insights-with-python-f70836d14c8)"
   ]
  }
 ],
 "metadata": {
  "kernelspec": {
   "display_name": "Python 3",
   "language": "python",
   "name": "python3"
  },
  "language_info": {
   "codemirror_mode": {
    "name": "ipython",
    "version": 3
   },
   "file_extension": ".py",
   "mimetype": "text/x-python",
   "name": "python",
   "nbconvert_exporter": "python",
   "pygments_lexer": "ipython3",
   "version": "3.10.12"
  },
  "papermill": {
   "default_parameters": {},
   "duration": 39.223089,
   "end_time": "2023-08-06T10:35:28.440605",
   "environment_variables": {},
   "exception": null,
   "input_path": "__notebook__.ipynb",
   "output_path": "__notebook__.ipynb",
   "parameters": {},
   "start_time": "2023-08-06T10:34:49.217516",
   "version": "2.4.0"
  }
 },
 "nbformat": 4,
 "nbformat_minor": 5
}
